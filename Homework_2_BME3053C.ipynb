{
  "nbformat": 4,
  "nbformat_minor": 0,
  "metadata": {
    "colab": {
      "provenance": [],
      "authorship_tag": "ABX9TyPrXEZWQgyvvjCCLRAPtR+/",
      "include_colab_link": true
    },
    "kernelspec": {
      "name": "python3",
      "display_name": "Python 3"
    },
    "language_info": {
      "name": "python"
    }
  },
  "cells": [
    {
      "cell_type": "markdown",
      "metadata": {
        "id": "view-in-github",
        "colab_type": "text"
      },
      "source": [
        "<a href=\"https://colab.research.google.com/github/mbenejam/bme3053c/blob/main/Homework_2_BME3053C.ipynb\" target=\"_parent\"><img src=\"https://colab.research.google.com/assets/colab-badge.svg\" alt=\"Open In Colab\"/></a>"
      ]
    },
    {
      "cell_type": "markdown",
      "source": [
        "Task 1:\n",
        "\n",
        "You have a list of systolic blood pressure readings (in mmHg) collected from a patient over time. For further analysis, you need to normalize them to a scale from 0 to 1. The formula to normalize a value x is:\n",
        "\n",
        "\n",
        "\n",
        "\n",
        "\n",
        "\n",
        "Where min_value is the minimum value in the list, and max_value is the maximum value in the list.​\n",
        "\n",
        "\n",
        "\n",
        "For the list of systolic blood pressure readings below, complete the following:\n",
        "\n",
        "\n",
        "\n",
        "bp_readings = [120, 137, 151, 123, 162, 173, 127, 154]\n",
        "\n",
        "\n",
        "\n",
        "1. Create a new script or a notebook on Colab and copy the list above into the first cell.\n",
        "\n",
        "2. Create a function that will receive an array as an input and:\n",
        "\n",
        "    A. Use built-in Python functions to find the min and max of the array.\n",
        "\n",
        "    B. Use a for loop to iterate through the list and normalize each reading using the formula provided.\n",
        "\n",
        "    C. Return a list that contains normalized values.\n",
        "\n",
        "3. Call your function and print the output.\n",
        "\n",
        "4. Upload your script or notebook."
      ],
      "metadata": {
        "id": "VEcYt_a53feG"
      }
    },
    {
      "cell_type": "code",
      "execution_count": 19,
      "metadata": {
        "colab": {
          "base_uri": "https://localhost:8080/"
        },
        "outputId": "a3be03aa-0430-48ce-a617-8e6cf53b3c93",
        "id": "eSH4xvFJ9g_9"
      },
      "outputs": [
        {
          "output_type": "stream",
          "name": "stdout",
          "text": [
            "min= 120\n",
            "max= 173\n",
            "sorted array [120, 123, 127, 137, 151, 154, 162, 173]\n",
            "normalized array [0.0, 0.0566, 0.1321, 0.3208, 0.5849, 0.6415, 0.7925, 1.0]\n"
          ]
        }
      ],
      "source": [
        "def sort_array(bp_array):\n",
        "  bp_array.sort()\n",
        "  bp_min= bp_array[0]\n",
        "  bp_max= bp_array[-1]\n",
        "  print(\"min=\", bp_min)\n",
        "  print(\"max=\", bp_max)\n",
        "  print(\"sorted array\", bp_array)\n",
        "  return bp_array, bp_min, bp_max\n",
        "\n",
        "def normalize_array(bp_array):\n",
        "  bp_array_normalized= []\n",
        "  for i in range(len(bp_array)):\n",
        "     normalized_value= round(((bp_array[i]-bp_min)/(bp_max-bp_min)), 4)\n",
        "     bp_array_normalized.append(normalized_value)\n",
        "  print(\"normalized array\", bp_array_normalized)\n",
        "  return bp_array_normalized\n",
        "\n",
        "bp_readings = [120, 137, 151, 123, 162, 173, 127, 154]\n",
        "sorted_bp_readings, bp_min, bp_max = sort_array(bp_readings)\n",
        "normalized_bp_readings= normalize_array(sorted_bp_readings)\n"
      ]
    }
  ]
}